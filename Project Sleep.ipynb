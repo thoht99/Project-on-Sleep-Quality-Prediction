{
 "cells": [
  {
   "cell_type": "markdown",
   "id": "accepted-stack",
   "metadata": {
    "tags": []
   },
   "source": [
    "# 1. Input data"
   ]
  },
  {
   "cell_type": "code",
   "execution_count": 109,
   "id": "restricted-crash",
   "metadata": {},
   "outputs": [
    {
     "name": "stdout",
     "output_type": "stream",
     "text": [
      "D:/Tho/Tho/Project - Python\\sleepdata.csv\n"
     ]
    }
   ],
   "source": [
    "import numpy as np\n",
    "import pandas as pd\n",
    "import os\n",
    "for dirname, _, filenames in os.walk('D:/Tho/Tho/Project - Python'):\n",
    "    for filename in filenames:\n",
    "        print(os.path.join(dirname, filename))"
   ]
  },
  {
   "cell_type": "code",
   "execution_count": 110,
   "id": "excess-karen",
   "metadata": {},
   "outputs": [
    {
     "data": {
      "text/html": [
       "<div>\n",
       "<style scoped>\n",
       "    .dataframe tbody tr th:only-of-type {\n",
       "        vertical-align: middle;\n",
       "    }\n",
       "\n",
       "    .dataframe tbody tr th {\n",
       "        vertical-align: top;\n",
       "    }\n",
       "\n",
       "    .dataframe thead th {\n",
       "        text-align: right;\n",
       "    }\n",
       "</style>\n",
       "<table border=\"1\" class=\"dataframe\">\n",
       "  <thead>\n",
       "    <tr style=\"text-align: right;\">\n",
       "      <th></th>\n",
       "      <th>Start</th>\n",
       "      <th>End</th>\n",
       "      <th>Sleep quality</th>\n",
       "      <th>Time in bed</th>\n",
       "      <th>Wake up</th>\n",
       "      <th>Sleep Notes</th>\n",
       "      <th>Heart rate</th>\n",
       "      <th>Activity (steps)</th>\n",
       "    </tr>\n",
       "  </thead>\n",
       "  <tbody>\n",
       "    <tr>\n",
       "      <th>0</th>\n",
       "      <td>2014-12-29 22:57:49</td>\n",
       "      <td>2014-12-30 07:30:13</td>\n",
       "      <td>100%</td>\n",
       "      <td>8:32</td>\n",
       "      <td>:)</td>\n",
       "      <td>NaN</td>\n",
       "      <td>59.0</td>\n",
       "      <td>0</td>\n",
       "    </tr>\n",
       "    <tr>\n",
       "      <th>1</th>\n",
       "      <td>2014-12-30 21:17:50</td>\n",
       "      <td>2014-12-30 21:33:54</td>\n",
       "      <td>3%</td>\n",
       "      <td>0:16</td>\n",
       "      <td>:|</td>\n",
       "      <td>Stressful day</td>\n",
       "      <td>72.0</td>\n",
       "      <td>0</td>\n",
       "    </tr>\n",
       "    <tr>\n",
       "      <th>2</th>\n",
       "      <td>2014-12-30 22:42:49</td>\n",
       "      <td>2014-12-31 07:13:31</td>\n",
       "      <td>98%</td>\n",
       "      <td>8:30</td>\n",
       "      <td>:|</td>\n",
       "      <td>NaN</td>\n",
       "      <td>57.0</td>\n",
       "      <td>0</td>\n",
       "    </tr>\n",
       "    <tr>\n",
       "      <th>3</th>\n",
       "      <td>2014-12-31 22:31:01</td>\n",
       "      <td>2015-01-01 06:03:01</td>\n",
       "      <td>65%</td>\n",
       "      <td>7:32</td>\n",
       "      <td>NaN</td>\n",
       "      <td>NaN</td>\n",
       "      <td>NaN</td>\n",
       "      <td>0</td>\n",
       "    </tr>\n",
       "    <tr>\n",
       "      <th>4</th>\n",
       "      <td>2015-01-01 22:12:10</td>\n",
       "      <td>2015-01-02 04:56:35</td>\n",
       "      <td>72%</td>\n",
       "      <td>6:44</td>\n",
       "      <td>:)</td>\n",
       "      <td>Drank coffee:Drank tea</td>\n",
       "      <td>68.0</td>\n",
       "      <td>0</td>\n",
       "    </tr>\n",
       "    <tr>\n",
       "      <th>...</th>\n",
       "      <td>...</td>\n",
       "      <td>...</td>\n",
       "      <td>...</td>\n",
       "      <td>...</td>\n",
       "      <td>...</td>\n",
       "      <td>...</td>\n",
       "      <td>...</td>\n",
       "      <td>...</td>\n",
       "    </tr>\n",
       "    <tr>\n",
       "      <th>882</th>\n",
       "      <td>2018-02-12 21:54:14</td>\n",
       "      <td>2018-02-13 07:02:15</td>\n",
       "      <td>91%</td>\n",
       "      <td>9:08</td>\n",
       "      <td>NaN</td>\n",
       "      <td>NaN</td>\n",
       "      <td>NaN</td>\n",
       "      <td>56</td>\n",
       "    </tr>\n",
       "    <tr>\n",
       "      <th>883</th>\n",
       "      <td>2018-02-13 23:49:19</td>\n",
       "      <td>2018-02-14 07:00:53</td>\n",
       "      <td>81%</td>\n",
       "      <td>7:11</td>\n",
       "      <td>NaN</td>\n",
       "      <td>NaN</td>\n",
       "      <td>NaN</td>\n",
       "      <td>64</td>\n",
       "    </tr>\n",
       "    <tr>\n",
       "      <th>884</th>\n",
       "      <td>2018-02-14 21:24:05</td>\n",
       "      <td>2018-02-15 06:20:52</td>\n",
       "      <td>71%</td>\n",
       "      <td>8:56</td>\n",
       "      <td>NaN</td>\n",
       "      <td>NaN</td>\n",
       "      <td>NaN</td>\n",
       "      <td>3316</td>\n",
       "    </tr>\n",
       "    <tr>\n",
       "      <th>885</th>\n",
       "      <td>2018-02-15 21:36:32</td>\n",
       "      <td>2018-02-16 06:50:31</td>\n",
       "      <td>80%</td>\n",
       "      <td>9:13</td>\n",
       "      <td>NaN</td>\n",
       "      <td>NaN</td>\n",
       "      <td>NaN</td>\n",
       "      <td>6555</td>\n",
       "    </tr>\n",
       "    <tr>\n",
       "      <th>886</th>\n",
       "      <td>2018-02-16 22:52:29</td>\n",
       "      <td>2018-02-17 07:48:04</td>\n",
       "      <td>91%</td>\n",
       "      <td>8:55</td>\n",
       "      <td>NaN</td>\n",
       "      <td>NaN</td>\n",
       "      <td>NaN</td>\n",
       "      <td>2291</td>\n",
       "    </tr>\n",
       "  </tbody>\n",
       "</table>\n",
       "<p>887 rows × 8 columns</p>\n",
       "</div>"
      ],
      "text/plain": [
       "                   Start                  End Sleep quality Time in bed  \\\n",
       "0    2014-12-29 22:57:49  2014-12-30 07:30:13          100%        8:32   \n",
       "1    2014-12-30 21:17:50  2014-12-30 21:33:54            3%        0:16   \n",
       "2    2014-12-30 22:42:49  2014-12-31 07:13:31           98%        8:30   \n",
       "3    2014-12-31 22:31:01  2015-01-01 06:03:01           65%        7:32   \n",
       "4    2015-01-01 22:12:10  2015-01-02 04:56:35           72%        6:44   \n",
       "..                   ...                  ...           ...         ...   \n",
       "882  2018-02-12 21:54:14  2018-02-13 07:02:15           91%        9:08   \n",
       "883  2018-02-13 23:49:19  2018-02-14 07:00:53           81%        7:11   \n",
       "884  2018-02-14 21:24:05  2018-02-15 06:20:52           71%        8:56   \n",
       "885  2018-02-15 21:36:32  2018-02-16 06:50:31           80%        9:13   \n",
       "886  2018-02-16 22:52:29  2018-02-17 07:48:04           91%        8:55   \n",
       "\n",
       "    Wake up             Sleep Notes  Heart rate  Activity (steps)  \n",
       "0        :)                     NaN        59.0                 0  \n",
       "1        :|           Stressful day        72.0                 0  \n",
       "2        :|                     NaN        57.0                 0  \n",
       "3       NaN                     NaN         NaN                 0  \n",
       "4        :)  Drank coffee:Drank tea        68.0                 0  \n",
       "..      ...                     ...         ...               ...  \n",
       "882     NaN                     NaN         NaN                56  \n",
       "883     NaN                     NaN         NaN                64  \n",
       "884     NaN                     NaN         NaN              3316  \n",
       "885     NaN                     NaN         NaN              6555  \n",
       "886     NaN                     NaN         NaN              2291  \n",
       "\n",
       "[887 rows x 8 columns]"
      ]
     },
     "execution_count": 110,
     "metadata": {},
     "output_type": "execute_result"
    }
   ],
   "source": [
    "df = pd.read_csv('D:/Tho/Tho/Project - Python/sleepdata.csv',delimiter=\";\")\n",
    "df"
   ]
  },
  {
   "cell_type": "markdown",
   "id": "adapted-watts",
   "metadata": {},
   "source": [
    "# 2. Pre-processing data"
   ]
  },
  {
   "cell_type": "code",
   "execution_count": 111,
   "id": "opened-picnic",
   "metadata": {},
   "outputs": [
    {
     "name": "stdout",
     "output_type": "stream",
     "text": [
      "<class 'pandas.core.frame.DataFrame'>\n",
      "RangeIndex: 887 entries, 0 to 886\n",
      "Data columns (total 8 columns):\n",
      " #   Column            Non-Null Count  Dtype  \n",
      "---  ------            --------------  -----  \n",
      " 0   Start             887 non-null    object \n",
      " 1   End               887 non-null    object \n",
      " 2   Sleep quality     887 non-null    object \n",
      " 3   Time in bed       887 non-null    object \n",
      " 4   Wake up           246 non-null    object \n",
      " 5   Sleep Notes       652 non-null    object \n",
      " 6   Heart rate        162 non-null    float64\n",
      " 7   Activity (steps)  887 non-null    int64  \n",
      "dtypes: float64(1), int64(1), object(6)\n",
      "memory usage: 55.6+ KB\n"
     ]
    }
   ],
   "source": [
    "df.info()"
   ]
  },
  {
   "cell_type": "markdown",
   "id": "appointed-production",
   "metadata": {},
   "source": [
    "### 2.1. \"Start\" column and \"End\" column is not in form datetime. The next step is to convert the \"Start\" and \"End\" to timestamp. Then, add 2 columns \"Start time in second\" and \"End time in second\""
   ]
  },
  {
   "cell_type": "code",
   "execution_count": 112,
   "id": "western-opportunity",
   "metadata": {},
   "outputs": [],
   "source": [
    "import time\n",
    "import datetime"
   ]
  },
  {
   "cell_type": "code",
   "execution_count": 113,
   "id": "impaired-florist",
   "metadata": {},
   "outputs": [],
   "source": [
    "df['Start'] = pd.to_datetime(df['Start'])\n",
    "df['End'] = pd.to_datetime(df['End'])"
   ]
  },
  {
   "cell_type": "code",
   "execution_count": 114,
   "id": "public-pharmacology",
   "metadata": {},
   "outputs": [],
   "source": [
    "df['Start time'] = pd.Series([val.time() for val in df['Start']])\n",
    "df['End time'] = pd.Series([val.time() for val in df['End']])\n",
    "df['Start time in second'] = df['Start time'].apply(lambda x: (x.hour*60+x.minute)*60 + x.second)\n",
    "df['End time in second'] = df['End time'].apply(lambda x: (x.hour*60+x.minute)*60 + x.second)\n",
    "df = df.drop(columns = ['Start time', 'End time'])"
   ]
  },
  {
   "cell_type": "markdown",
   "id": "involved-duncan",
   "metadata": {},
   "source": [
    "### 2.2. \"Sleep quality\" column has type is string. The next step is to convert the \"Sleep quality\" to float"
   ]
  },
  {
   "cell_type": "code",
   "execution_count": 115,
   "id": "genuine-designation",
   "metadata": {},
   "outputs": [],
   "source": [
    "df['Sleep quality'] = df['Sleep quality'].apply(lambda x: x[:-1]).astype(int)"
   ]
  },
  {
   "cell_type": "markdown",
   "id": "transparent-tourist",
   "metadata": {},
   "source": [
    "### 2.3. \"Time in bed\" column has type is string. The next step is to convert the \"Time in bed\" to form datetime"
   ]
  },
  {
   "cell_type": "markdown",
   "id": "athletic-bulgarian",
   "metadata": {},
   "source": [
    "#### We can see \"Time in bed\" = \"Start\" - \"End\""
   ]
  },
  {
   "cell_type": "code",
   "execution_count": 116,
   "id": "subjective-creation",
   "metadata": {},
   "outputs": [],
   "source": [
    "df['Time in bed'] = df['End'] - df['Start']\n",
    "df['Time in bed'] = df['Time in bed'].astype('timedelta64[s]')"
   ]
  },
  {
   "cell_type": "code",
   "execution_count": 117,
   "id": "ceramic-great",
   "metadata": {},
   "outputs": [
    {
     "data": {
      "text/html": [
       "<div>\n",
       "<style scoped>\n",
       "    .dataframe tbody tr th:only-of-type {\n",
       "        vertical-align: middle;\n",
       "    }\n",
       "\n",
       "    .dataframe tbody tr th {\n",
       "        vertical-align: top;\n",
       "    }\n",
       "\n",
       "    .dataframe thead th {\n",
       "        text-align: right;\n",
       "    }\n",
       "</style>\n",
       "<table border=\"1\" class=\"dataframe\">\n",
       "  <thead>\n",
       "    <tr style=\"text-align: right;\">\n",
       "      <th></th>\n",
       "      <th>Start</th>\n",
       "      <th>End</th>\n",
       "      <th>Sleep quality</th>\n",
       "      <th>Time in bed</th>\n",
       "      <th>Wake up</th>\n",
       "      <th>Sleep Notes</th>\n",
       "      <th>Heart rate</th>\n",
       "      <th>Activity (steps)</th>\n",
       "      <th>Start time in second</th>\n",
       "      <th>End time in second</th>\n",
       "    </tr>\n",
       "  </thead>\n",
       "  <tbody>\n",
       "    <tr>\n",
       "      <th>0</th>\n",
       "      <td>2014-12-29 22:57:49</td>\n",
       "      <td>2014-12-30 07:30:13</td>\n",
       "      <td>100</td>\n",
       "      <td>30744.0</td>\n",
       "      <td>:)</td>\n",
       "      <td>NaN</td>\n",
       "      <td>59.0</td>\n",
       "      <td>0</td>\n",
       "      <td>82669</td>\n",
       "      <td>27013</td>\n",
       "    </tr>\n",
       "    <tr>\n",
       "      <th>1</th>\n",
       "      <td>2014-12-30 21:17:50</td>\n",
       "      <td>2014-12-30 21:33:54</td>\n",
       "      <td>3</td>\n",
       "      <td>964.0</td>\n",
       "      <td>:|</td>\n",
       "      <td>Stressful day</td>\n",
       "      <td>72.0</td>\n",
       "      <td>0</td>\n",
       "      <td>76670</td>\n",
       "      <td>77634</td>\n",
       "    </tr>\n",
       "    <tr>\n",
       "      <th>2</th>\n",
       "      <td>2014-12-30 22:42:49</td>\n",
       "      <td>2014-12-31 07:13:31</td>\n",
       "      <td>98</td>\n",
       "      <td>30642.0</td>\n",
       "      <td>:|</td>\n",
       "      <td>NaN</td>\n",
       "      <td>57.0</td>\n",
       "      <td>0</td>\n",
       "      <td>81769</td>\n",
       "      <td>26011</td>\n",
       "    </tr>\n",
       "    <tr>\n",
       "      <th>3</th>\n",
       "      <td>2014-12-31 22:31:01</td>\n",
       "      <td>2015-01-01 06:03:01</td>\n",
       "      <td>65</td>\n",
       "      <td>27120.0</td>\n",
       "      <td>NaN</td>\n",
       "      <td>NaN</td>\n",
       "      <td>NaN</td>\n",
       "      <td>0</td>\n",
       "      <td>81061</td>\n",
       "      <td>21781</td>\n",
       "    </tr>\n",
       "    <tr>\n",
       "      <th>4</th>\n",
       "      <td>2015-01-01 22:12:10</td>\n",
       "      <td>2015-01-02 04:56:35</td>\n",
       "      <td>72</td>\n",
       "      <td>24265.0</td>\n",
       "      <td>:)</td>\n",
       "      <td>Drank coffee:Drank tea</td>\n",
       "      <td>68.0</td>\n",
       "      <td>0</td>\n",
       "      <td>79930</td>\n",
       "      <td>17795</td>\n",
       "    </tr>\n",
       "    <tr>\n",
       "      <th>...</th>\n",
       "      <td>...</td>\n",
       "      <td>...</td>\n",
       "      <td>...</td>\n",
       "      <td>...</td>\n",
       "      <td>...</td>\n",
       "      <td>...</td>\n",
       "      <td>...</td>\n",
       "      <td>...</td>\n",
       "      <td>...</td>\n",
       "      <td>...</td>\n",
       "    </tr>\n",
       "    <tr>\n",
       "      <th>882</th>\n",
       "      <td>2018-02-12 21:54:14</td>\n",
       "      <td>2018-02-13 07:02:15</td>\n",
       "      <td>91</td>\n",
       "      <td>32881.0</td>\n",
       "      <td>NaN</td>\n",
       "      <td>NaN</td>\n",
       "      <td>NaN</td>\n",
       "      <td>56</td>\n",
       "      <td>78854</td>\n",
       "      <td>25335</td>\n",
       "    </tr>\n",
       "    <tr>\n",
       "      <th>883</th>\n",
       "      <td>2018-02-13 23:49:19</td>\n",
       "      <td>2018-02-14 07:00:53</td>\n",
       "      <td>81</td>\n",
       "      <td>25894.0</td>\n",
       "      <td>NaN</td>\n",
       "      <td>NaN</td>\n",
       "      <td>NaN</td>\n",
       "      <td>64</td>\n",
       "      <td>85759</td>\n",
       "      <td>25253</td>\n",
       "    </tr>\n",
       "    <tr>\n",
       "      <th>884</th>\n",
       "      <td>2018-02-14 21:24:05</td>\n",
       "      <td>2018-02-15 06:20:52</td>\n",
       "      <td>71</td>\n",
       "      <td>32207.0</td>\n",
       "      <td>NaN</td>\n",
       "      <td>NaN</td>\n",
       "      <td>NaN</td>\n",
       "      <td>3316</td>\n",
       "      <td>77045</td>\n",
       "      <td>22852</td>\n",
       "    </tr>\n",
       "    <tr>\n",
       "      <th>885</th>\n",
       "      <td>2018-02-15 21:36:32</td>\n",
       "      <td>2018-02-16 06:50:31</td>\n",
       "      <td>80</td>\n",
       "      <td>33239.0</td>\n",
       "      <td>NaN</td>\n",
       "      <td>NaN</td>\n",
       "      <td>NaN</td>\n",
       "      <td>6555</td>\n",
       "      <td>77792</td>\n",
       "      <td>24631</td>\n",
       "    </tr>\n",
       "    <tr>\n",
       "      <th>886</th>\n",
       "      <td>2018-02-16 22:52:29</td>\n",
       "      <td>2018-02-17 07:48:04</td>\n",
       "      <td>91</td>\n",
       "      <td>32135.0</td>\n",
       "      <td>NaN</td>\n",
       "      <td>NaN</td>\n",
       "      <td>NaN</td>\n",
       "      <td>2291</td>\n",
       "      <td>82349</td>\n",
       "      <td>28084</td>\n",
       "    </tr>\n",
       "  </tbody>\n",
       "</table>\n",
       "<p>887 rows × 10 columns</p>\n",
       "</div>"
      ],
      "text/plain": [
       "                  Start                 End  Sleep quality  Time in bed  \\\n",
       "0   2014-12-29 22:57:49 2014-12-30 07:30:13            100      30744.0   \n",
       "1   2014-12-30 21:17:50 2014-12-30 21:33:54              3        964.0   \n",
       "2   2014-12-30 22:42:49 2014-12-31 07:13:31             98      30642.0   \n",
       "3   2014-12-31 22:31:01 2015-01-01 06:03:01             65      27120.0   \n",
       "4   2015-01-01 22:12:10 2015-01-02 04:56:35             72      24265.0   \n",
       "..                  ...                 ...            ...          ...   \n",
       "882 2018-02-12 21:54:14 2018-02-13 07:02:15             91      32881.0   \n",
       "883 2018-02-13 23:49:19 2018-02-14 07:00:53             81      25894.0   \n",
       "884 2018-02-14 21:24:05 2018-02-15 06:20:52             71      32207.0   \n",
       "885 2018-02-15 21:36:32 2018-02-16 06:50:31             80      33239.0   \n",
       "886 2018-02-16 22:52:29 2018-02-17 07:48:04             91      32135.0   \n",
       "\n",
       "    Wake up             Sleep Notes  Heart rate  Activity (steps)  \\\n",
       "0        :)                     NaN        59.0                 0   \n",
       "1        :|           Stressful day        72.0                 0   \n",
       "2        :|                     NaN        57.0                 0   \n",
       "3       NaN                     NaN         NaN                 0   \n",
       "4        :)  Drank coffee:Drank tea        68.0                 0   \n",
       "..      ...                     ...         ...               ...   \n",
       "882     NaN                     NaN         NaN                56   \n",
       "883     NaN                     NaN         NaN                64   \n",
       "884     NaN                     NaN         NaN              3316   \n",
       "885     NaN                     NaN         NaN              6555   \n",
       "886     NaN                     NaN         NaN              2291   \n",
       "\n",
       "     Start time in second  End time in second  \n",
       "0                   82669               27013  \n",
       "1                   76670               77634  \n",
       "2                   81769               26011  \n",
       "3                   81061               21781  \n",
       "4                   79930               17795  \n",
       "..                    ...                 ...  \n",
       "882                 78854               25335  \n",
       "883                 85759               25253  \n",
       "884                 77045               22852  \n",
       "885                 77792               24631  \n",
       "886                 82349               28084  \n",
       "\n",
       "[887 rows x 10 columns]"
      ]
     },
     "execution_count": 117,
     "metadata": {},
     "output_type": "execute_result"
    }
   ],
   "source": [
    "df"
   ]
  },
  {
   "cell_type": "markdown",
   "id": "several-singing",
   "metadata": {},
   "source": [
    "### 2.4. \"Wake up\" column has information is symbols. We can have following convention:\n",
    "###    No for NaN\n",
    "###    Good for \":)\" - you feeling great after night\n",
    "###    Average for \":|\" - not so good\n",
    "###    Bad for \":(\" - terrible night"
   ]
  },
  {
   "cell_type": "code",
   "execution_count": 118,
   "id": "technical-teach",
   "metadata": {},
   "outputs": [],
   "source": [
    "df['Wake up'] = df['Wake up'].replace({':)':'Good', ':|':'Average', ':(':'Bad'})"
   ]
  },
  {
   "cell_type": "code",
   "execution_count": 119,
   "id": "latter-conspiracy",
   "metadata": {},
   "outputs": [],
   "source": [
    "df['Wake up'] = df['Wake up'].fillna(value = 'No')"
   ]
  },
  {
   "cell_type": "code",
   "execution_count": 120,
   "id": "catholic-impression",
   "metadata": {
    "tags": []
   },
   "outputs": [],
   "source": [
    "df2 = df[[\"Sleep quality\", \"Wake up\", \"Time in bed\", \"Start time in second\", \"End time in second\",\"Activity (steps)\",\"Heart rate\"]]"
   ]
  },
  {
   "cell_type": "code",
   "execution_count": 121,
   "id": "brief-computer",
   "metadata": {},
   "outputs": [
    {
     "data": {
      "text/html": [
       "<div>\n",
       "<style scoped>\n",
       "    .dataframe tbody tr th:only-of-type {\n",
       "        vertical-align: middle;\n",
       "    }\n",
       "\n",
       "    .dataframe tbody tr th {\n",
       "        vertical-align: top;\n",
       "    }\n",
       "\n",
       "    .dataframe thead th {\n",
       "        text-align: right;\n",
       "    }\n",
       "</style>\n",
       "<table border=\"1\" class=\"dataframe\">\n",
       "  <thead>\n",
       "    <tr style=\"text-align: right;\">\n",
       "      <th></th>\n",
       "      <th>Sleep quality</th>\n",
       "      <th>Wake up</th>\n",
       "      <th>Time in bed</th>\n",
       "      <th>Start time in second</th>\n",
       "      <th>End time in second</th>\n",
       "      <th>Activity (steps)</th>\n",
       "      <th>Heart rate</th>\n",
       "    </tr>\n",
       "  </thead>\n",
       "  <tbody>\n",
       "    <tr>\n",
       "      <th>0</th>\n",
       "      <td>100</td>\n",
       "      <td>Good</td>\n",
       "      <td>30744.0</td>\n",
       "      <td>82669</td>\n",
       "      <td>27013</td>\n",
       "      <td>0</td>\n",
       "      <td>59.0</td>\n",
       "    </tr>\n",
       "    <tr>\n",
       "      <th>1</th>\n",
       "      <td>3</td>\n",
       "      <td>Average</td>\n",
       "      <td>964.0</td>\n",
       "      <td>76670</td>\n",
       "      <td>77634</td>\n",
       "      <td>0</td>\n",
       "      <td>72.0</td>\n",
       "    </tr>\n",
       "    <tr>\n",
       "      <th>2</th>\n",
       "      <td>98</td>\n",
       "      <td>Average</td>\n",
       "      <td>30642.0</td>\n",
       "      <td>81769</td>\n",
       "      <td>26011</td>\n",
       "      <td>0</td>\n",
       "      <td>57.0</td>\n",
       "    </tr>\n",
       "    <tr>\n",
       "      <th>3</th>\n",
       "      <td>65</td>\n",
       "      <td>No</td>\n",
       "      <td>27120.0</td>\n",
       "      <td>81061</td>\n",
       "      <td>21781</td>\n",
       "      <td>0</td>\n",
       "      <td>NaN</td>\n",
       "    </tr>\n",
       "    <tr>\n",
       "      <th>4</th>\n",
       "      <td>72</td>\n",
       "      <td>Good</td>\n",
       "      <td>24265.0</td>\n",
       "      <td>79930</td>\n",
       "      <td>17795</td>\n",
       "      <td>0</td>\n",
       "      <td>68.0</td>\n",
       "    </tr>\n",
       "    <tr>\n",
       "      <th>...</th>\n",
       "      <td>...</td>\n",
       "      <td>...</td>\n",
       "      <td>...</td>\n",
       "      <td>...</td>\n",
       "      <td>...</td>\n",
       "      <td>...</td>\n",
       "      <td>...</td>\n",
       "    </tr>\n",
       "    <tr>\n",
       "      <th>882</th>\n",
       "      <td>91</td>\n",
       "      <td>No</td>\n",
       "      <td>32881.0</td>\n",
       "      <td>78854</td>\n",
       "      <td>25335</td>\n",
       "      <td>56</td>\n",
       "      <td>NaN</td>\n",
       "    </tr>\n",
       "    <tr>\n",
       "      <th>883</th>\n",
       "      <td>81</td>\n",
       "      <td>No</td>\n",
       "      <td>25894.0</td>\n",
       "      <td>85759</td>\n",
       "      <td>25253</td>\n",
       "      <td>64</td>\n",
       "      <td>NaN</td>\n",
       "    </tr>\n",
       "    <tr>\n",
       "      <th>884</th>\n",
       "      <td>71</td>\n",
       "      <td>No</td>\n",
       "      <td>32207.0</td>\n",
       "      <td>77045</td>\n",
       "      <td>22852</td>\n",
       "      <td>3316</td>\n",
       "      <td>NaN</td>\n",
       "    </tr>\n",
       "    <tr>\n",
       "      <th>885</th>\n",
       "      <td>80</td>\n",
       "      <td>No</td>\n",
       "      <td>33239.0</td>\n",
       "      <td>77792</td>\n",
       "      <td>24631</td>\n",
       "      <td>6555</td>\n",
       "      <td>NaN</td>\n",
       "    </tr>\n",
       "    <tr>\n",
       "      <th>886</th>\n",
       "      <td>91</td>\n",
       "      <td>No</td>\n",
       "      <td>32135.0</td>\n",
       "      <td>82349</td>\n",
       "      <td>28084</td>\n",
       "      <td>2291</td>\n",
       "      <td>NaN</td>\n",
       "    </tr>\n",
       "  </tbody>\n",
       "</table>\n",
       "<p>887 rows × 7 columns</p>\n",
       "</div>"
      ],
      "text/plain": [
       "     Sleep quality  Wake up  Time in bed  Start time in second  \\\n",
       "0              100     Good      30744.0                 82669   \n",
       "1                3  Average        964.0                 76670   \n",
       "2               98  Average      30642.0                 81769   \n",
       "3               65       No      27120.0                 81061   \n",
       "4               72     Good      24265.0                 79930   \n",
       "..             ...      ...          ...                   ...   \n",
       "882             91       No      32881.0                 78854   \n",
       "883             81       No      25894.0                 85759   \n",
       "884             71       No      32207.0                 77045   \n",
       "885             80       No      33239.0                 77792   \n",
       "886             91       No      32135.0                 82349   \n",
       "\n",
       "     End time in second  Activity (steps)  Heart rate  \n",
       "0                 27013                 0        59.0  \n",
       "1                 77634                 0        72.0  \n",
       "2                 26011                 0        57.0  \n",
       "3                 21781                 0         NaN  \n",
       "4                 17795                 0        68.0  \n",
       "..                  ...               ...         ...  \n",
       "882               25335                56         NaN  \n",
       "883               25253                64         NaN  \n",
       "884               22852              3316         NaN  \n",
       "885               24631              6555         NaN  \n",
       "886               28084              2291         NaN  \n",
       "\n",
       "[887 rows x 7 columns]"
      ]
     },
     "execution_count": 121,
     "metadata": {},
     "output_type": "execute_result"
    }
   ],
   "source": [
    "df2"
   ]
  },
  {
   "cell_type": "code",
   "execution_count": 122,
   "id": "desperate-compact",
   "metadata": {
    "tags": []
   },
   "outputs": [
    {
     "name": "stdout",
     "output_type": "stream",
     "text": [
      "<class 'pandas.core.frame.DataFrame'>\n",
      "RangeIndex: 887 entries, 0 to 886\n",
      "Data columns (total 7 columns):\n",
      " #   Column                Non-Null Count  Dtype  \n",
      "---  ------                --------------  -----  \n",
      " 0   Sleep quality         887 non-null    int32  \n",
      " 1   Wake up               887 non-null    object \n",
      " 2   Time in bed           887 non-null    float64\n",
      " 3   Start time in second  887 non-null    int64  \n",
      " 4   End time in second    887 non-null    int64  \n",
      " 5   Activity (steps)      887 non-null    int64  \n",
      " 6   Heart rate            162 non-null    float64\n",
      "dtypes: float64(2), int32(1), int64(3), object(1)\n",
      "memory usage: 45.2+ KB\n"
     ]
    }
   ],
   "source": [
    "df2.info()"
   ]
  },
  {
   "cell_type": "code",
   "execution_count": 123,
   "id": "legislative-ratio",
   "metadata": {
    "tags": []
   },
   "outputs": [
    {
     "name": "stderr",
     "output_type": "stream",
     "text": [
      "<ipython-input-123-ccef8ebb5042>:1: SettingWithCopyWarning: \n",
      "A value is trying to be set on a copy of a slice from a DataFrame.\n",
      "Try using .loc[row_indexer,col_indexer] = value instead\n",
      "\n",
      "See the caveats in the documentation: https://pandas.pydata.org/pandas-docs/stable/user_guide/indexing.html#returning-a-view-versus-a-copy\n",
      "  df2['Heart rate'] = df2['Heart rate'].fillna(value = df2['Heart rate'].mean())\n"
     ]
    }
   ],
   "source": [
    "df2['Heart rate'] = df2['Heart rate'].fillna(value = df2['Heart rate'].mean())"
   ]
  },
  {
   "cell_type": "code",
   "execution_count": 124,
   "id": "common-label",
   "metadata": {},
   "outputs": [
    {
     "data": {
      "text/html": [
       "<div>\n",
       "<style scoped>\n",
       "    .dataframe tbody tr th:only-of-type {\n",
       "        vertical-align: middle;\n",
       "    }\n",
       "\n",
       "    .dataframe tbody tr th {\n",
       "        vertical-align: top;\n",
       "    }\n",
       "\n",
       "    .dataframe thead th {\n",
       "        text-align: right;\n",
       "    }\n",
       "</style>\n",
       "<table border=\"1\" class=\"dataframe\">\n",
       "  <thead>\n",
       "    <tr style=\"text-align: right;\">\n",
       "      <th></th>\n",
       "      <th>Sleep quality</th>\n",
       "      <th>Wake up</th>\n",
       "      <th>Time in bed</th>\n",
       "      <th>Start time in second</th>\n",
       "      <th>End time in second</th>\n",
       "      <th>Activity (steps)</th>\n",
       "      <th>Heart rate</th>\n",
       "    </tr>\n",
       "  </thead>\n",
       "  <tbody>\n",
       "    <tr>\n",
       "      <th>0</th>\n",
       "      <td>100</td>\n",
       "      <td>Good</td>\n",
       "      <td>30744.0</td>\n",
       "      <td>82669</td>\n",
       "      <td>27013</td>\n",
       "      <td>0</td>\n",
       "      <td>59.000000</td>\n",
       "    </tr>\n",
       "    <tr>\n",
       "      <th>1</th>\n",
       "      <td>3</td>\n",
       "      <td>Average</td>\n",
       "      <td>964.0</td>\n",
       "      <td>76670</td>\n",
       "      <td>77634</td>\n",
       "      <td>0</td>\n",
       "      <td>72.000000</td>\n",
       "    </tr>\n",
       "    <tr>\n",
       "      <th>2</th>\n",
       "      <td>98</td>\n",
       "      <td>Average</td>\n",
       "      <td>30642.0</td>\n",
       "      <td>81769</td>\n",
       "      <td>26011</td>\n",
       "      <td>0</td>\n",
       "      <td>57.000000</td>\n",
       "    </tr>\n",
       "    <tr>\n",
       "      <th>3</th>\n",
       "      <td>65</td>\n",
       "      <td>No</td>\n",
       "      <td>27120.0</td>\n",
       "      <td>81061</td>\n",
       "      <td>21781</td>\n",
       "      <td>0</td>\n",
       "      <td>60.604938</td>\n",
       "    </tr>\n",
       "    <tr>\n",
       "      <th>4</th>\n",
       "      <td>72</td>\n",
       "      <td>Good</td>\n",
       "      <td>24265.0</td>\n",
       "      <td>79930</td>\n",
       "      <td>17795</td>\n",
       "      <td>0</td>\n",
       "      <td>68.000000</td>\n",
       "    </tr>\n",
       "    <tr>\n",
       "      <th>...</th>\n",
       "      <td>...</td>\n",
       "      <td>...</td>\n",
       "      <td>...</td>\n",
       "      <td>...</td>\n",
       "      <td>...</td>\n",
       "      <td>...</td>\n",
       "      <td>...</td>\n",
       "    </tr>\n",
       "    <tr>\n",
       "      <th>882</th>\n",
       "      <td>91</td>\n",
       "      <td>No</td>\n",
       "      <td>32881.0</td>\n",
       "      <td>78854</td>\n",
       "      <td>25335</td>\n",
       "      <td>56</td>\n",
       "      <td>60.604938</td>\n",
       "    </tr>\n",
       "    <tr>\n",
       "      <th>883</th>\n",
       "      <td>81</td>\n",
       "      <td>No</td>\n",
       "      <td>25894.0</td>\n",
       "      <td>85759</td>\n",
       "      <td>25253</td>\n",
       "      <td>64</td>\n",
       "      <td>60.604938</td>\n",
       "    </tr>\n",
       "    <tr>\n",
       "      <th>884</th>\n",
       "      <td>71</td>\n",
       "      <td>No</td>\n",
       "      <td>32207.0</td>\n",
       "      <td>77045</td>\n",
       "      <td>22852</td>\n",
       "      <td>3316</td>\n",
       "      <td>60.604938</td>\n",
       "    </tr>\n",
       "    <tr>\n",
       "      <th>885</th>\n",
       "      <td>80</td>\n",
       "      <td>No</td>\n",
       "      <td>33239.0</td>\n",
       "      <td>77792</td>\n",
       "      <td>24631</td>\n",
       "      <td>6555</td>\n",
       "      <td>60.604938</td>\n",
       "    </tr>\n",
       "    <tr>\n",
       "      <th>886</th>\n",
       "      <td>91</td>\n",
       "      <td>No</td>\n",
       "      <td>32135.0</td>\n",
       "      <td>82349</td>\n",
       "      <td>28084</td>\n",
       "      <td>2291</td>\n",
       "      <td>60.604938</td>\n",
       "    </tr>\n",
       "  </tbody>\n",
       "</table>\n",
       "<p>887 rows × 7 columns</p>\n",
       "</div>"
      ],
      "text/plain": [
       "     Sleep quality  Wake up  Time in bed  Start time in second  \\\n",
       "0              100     Good      30744.0                 82669   \n",
       "1                3  Average        964.0                 76670   \n",
       "2               98  Average      30642.0                 81769   \n",
       "3               65       No      27120.0                 81061   \n",
       "4               72     Good      24265.0                 79930   \n",
       "..             ...      ...          ...                   ...   \n",
       "882             91       No      32881.0                 78854   \n",
       "883             81       No      25894.0                 85759   \n",
       "884             71       No      32207.0                 77045   \n",
       "885             80       No      33239.0                 77792   \n",
       "886             91       No      32135.0                 82349   \n",
       "\n",
       "     End time in second  Activity (steps)  Heart rate  \n",
       "0                 27013                 0   59.000000  \n",
       "1                 77634                 0   72.000000  \n",
       "2                 26011                 0   57.000000  \n",
       "3                 21781                 0   60.604938  \n",
       "4                 17795                 0   68.000000  \n",
       "..                  ...               ...         ...  \n",
       "882               25335                56   60.604938  \n",
       "883               25253                64   60.604938  \n",
       "884               22852              3316   60.604938  \n",
       "885               24631              6555   60.604938  \n",
       "886               28084              2291   60.604938  \n",
       "\n",
       "[887 rows x 7 columns]"
      ]
     },
     "execution_count": 124,
     "metadata": {},
     "output_type": "execute_result"
    }
   ],
   "source": [
    "df2"
   ]
  },
  {
   "cell_type": "code",
   "execution_count": 125,
   "id": "complimentary-trouble",
   "metadata": {},
   "outputs": [
    {
     "data": {
      "text/html": [
       "<div>\n",
       "<style scoped>\n",
       "    .dataframe tbody tr th:only-of-type {\n",
       "        vertical-align: middle;\n",
       "    }\n",
       "\n",
       "    .dataframe tbody tr th {\n",
       "        vertical-align: top;\n",
       "    }\n",
       "\n",
       "    .dataframe thead th {\n",
       "        text-align: right;\n",
       "    }\n",
       "</style>\n",
       "<table border=\"1\" class=\"dataframe\">\n",
       "  <thead>\n",
       "    <tr style=\"text-align: right;\">\n",
       "      <th></th>\n",
       "      <th>Sleep quality</th>\n",
       "      <th>Time in bed</th>\n",
       "      <th>Start time in second</th>\n",
       "      <th>End time in second</th>\n",
       "      <th>Activity (steps)</th>\n",
       "      <th>Heart rate</th>\n",
       "    </tr>\n",
       "  </thead>\n",
       "  <tbody>\n",
       "    <tr>\n",
       "      <th>count</th>\n",
       "      <td>887.000000</td>\n",
       "      <td>887.000000</td>\n",
       "      <td>887.000000</td>\n",
       "      <td>887.000000</td>\n",
       "      <td>887.000000</td>\n",
       "      <td>887.000000</td>\n",
       "    </tr>\n",
       "    <tr>\n",
       "      <th>mean</th>\n",
       "      <td>74.895152</td>\n",
       "      <td>27545.254791</td>\n",
       "      <td>72771.413754</td>\n",
       "      <td>23267.739572</td>\n",
       "      <td>2776.378805</td>\n",
       "      <td>60.604938</td>\n",
       "    </tr>\n",
       "    <tr>\n",
       "      <th>std</th>\n",
       "      <td>15.433292</td>\n",
       "      <td>4648.211587</td>\n",
       "      <td>23305.625306</td>\n",
       "      <td>3717.788253</td>\n",
       "      <td>3486.482157</td>\n",
       "      <td>3.027846</td>\n",
       "    </tr>\n",
       "    <tr>\n",
       "      <th>min</th>\n",
       "      <td>0.000000</td>\n",
       "      <td>905.000000</td>\n",
       "      <td>10.000000</td>\n",
       "      <td>48.000000</td>\n",
       "      <td>0.000000</td>\n",
       "      <td>49.000000</td>\n",
       "    </tr>\n",
       "    <tr>\n",
       "      <th>25%</th>\n",
       "      <td>69.000000</td>\n",
       "      <td>26369.500000</td>\n",
       "      <td>78449.500000</td>\n",
       "      <td>21458.500000</td>\n",
       "      <td>0.000000</td>\n",
       "      <td>60.604938</td>\n",
       "    </tr>\n",
       "    <tr>\n",
       "      <th>50%</th>\n",
       "      <td>77.000000</td>\n",
       "      <td>27859.000000</td>\n",
       "      <td>80330.000000</td>\n",
       "      <td>22808.000000</td>\n",
       "      <td>255.000000</td>\n",
       "      <td>60.604938</td>\n",
       "    </tr>\n",
       "    <tr>\n",
       "      <th>75%</th>\n",
       "      <td>84.000000</td>\n",
       "      <td>29571.500000</td>\n",
       "      <td>82054.500000</td>\n",
       "      <td>24692.000000</td>\n",
       "      <td>5317.000000</td>\n",
       "      <td>60.604938</td>\n",
       "    </tr>\n",
       "    <tr>\n",
       "      <th>max</th>\n",
       "      <td>100.000000</td>\n",
       "      <td>38765.000000</td>\n",
       "      <td>86329.000000</td>\n",
       "      <td>77634.000000</td>\n",
       "      <td>21870.000000</td>\n",
       "      <td>98.000000</td>\n",
       "    </tr>\n",
       "  </tbody>\n",
       "</table>\n",
       "</div>"
      ],
      "text/plain": [
       "       Sleep quality   Time in bed  Start time in second  End time in second  \\\n",
       "count     887.000000    887.000000            887.000000          887.000000   \n",
       "mean       74.895152  27545.254791          72771.413754        23267.739572   \n",
       "std        15.433292   4648.211587          23305.625306         3717.788253   \n",
       "min         0.000000    905.000000             10.000000           48.000000   \n",
       "25%        69.000000  26369.500000          78449.500000        21458.500000   \n",
       "50%        77.000000  27859.000000          80330.000000        22808.000000   \n",
       "75%        84.000000  29571.500000          82054.500000        24692.000000   \n",
       "max       100.000000  38765.000000          86329.000000        77634.000000   \n",
       "\n",
       "       Activity (steps)  Heart rate  \n",
       "count        887.000000  887.000000  \n",
       "mean        2776.378805   60.604938  \n",
       "std         3486.482157    3.027846  \n",
       "min            0.000000   49.000000  \n",
       "25%            0.000000   60.604938  \n",
       "50%          255.000000   60.604938  \n",
       "75%         5317.000000   60.604938  \n",
       "max        21870.000000   98.000000  "
      ]
     },
     "execution_count": 125,
     "metadata": {},
     "output_type": "execute_result"
    }
   ],
   "source": [
    "df2.describe()"
   ]
  },
  {
   "cell_type": "code",
   "execution_count": 126,
   "id": "close-fireplace",
   "metadata": {},
   "outputs": [
    {
     "data": {
      "text/plain": [
       "Sleep quality           0\n",
       "Wake up                 0\n",
       "Time in bed             0\n",
       "Start time in second    0\n",
       "End time in second      0\n",
       "Activity (steps)        0\n",
       "Heart rate              0\n",
       "dtype: int64"
      ]
     },
     "execution_count": 126,
     "metadata": {},
     "output_type": "execute_result"
    }
   ],
   "source": [
    "df2.isnull().sum()"
   ]
  },
  {
   "cell_type": "markdown",
   "id": "meaning-commitment",
   "metadata": {},
   "source": [
    "# 3. Explore data analysis"
   ]
  },
  {
   "cell_type": "markdown",
   "id": "excited-mouth",
   "metadata": {},
   "source": [
    "### 3.1. Visualize data"
   ]
  },
  {
   "cell_type": "code",
   "execution_count": 127,
   "id": "smart-floor",
   "metadata": {},
   "outputs": [],
   "source": [
    "import matplotlib.pyplot as plt\n",
    "import seaborn as sns"
   ]
  },
  {
   "cell_type": "code",
   "execution_count": 128,
   "id": "higher-stationery",
   "metadata": {
    "tags": []
   },
   "outputs": [],
   "source": [
    "num_col = [\"Sleep quality\", \"Time in bed\", \"Start time in second\", \"End time in second\",\"Activity (steps)\",\"Heart rate\"]"
   ]
  },
  {
   "cell_type": "code",
   "execution_count": 130,
   "id": "comic-titanium",
   "metadata": {},
   "outputs": [
    {
     "name": "stderr",
     "output_type": "stream",
     "text": [
      "c:\\users\\admin\\appdata\\local\\programs\\python\\python39\\lib\\site-packages\\seaborn\\distributions.py:2557: FutureWarning: `distplot` is a deprecated function and will be removed in a future version. Please adapt your code to use either `displot` (a figure-level function with similar flexibility) or `histplot` (an axes-level function for histograms).\n",
      "  warnings.warn(msg, FutureWarning)\n",
      "c:\\users\\admin\\appdata\\local\\programs\\python\\python39\\lib\\site-packages\\seaborn\\distributions.py:2557: FutureWarning: `distplot` is a deprecated function and will be removed in a future version. Please adapt your code to use either `displot` (a figure-level function with similar flexibility) or `histplot` (an axes-level function for histograms).\n",
      "  warnings.warn(msg, FutureWarning)\n",
      "c:\\users\\admin\\appdata\\local\\programs\\python\\python39\\lib\\site-packages\\seaborn\\distributions.py:2557: FutureWarning: `distplot` is a deprecated function and will be removed in a future version. Please adapt your code to use either `displot` (a figure-level function with similar flexibility) or `histplot` (an axes-level function for histograms).\n",
      "  warnings.warn(msg, FutureWarning)\n",
      "c:\\users\\admin\\appdata\\local\\programs\\python\\python39\\lib\\site-packages\\seaborn\\distributions.py:2557: FutureWarning: `distplot` is a deprecated function and will be removed in a future version. Please adapt your code to use either `displot` (a figure-level function with similar flexibility) or `histplot` (an axes-level function for histograms).\n",
      "  warnings.warn(msg, FutureWarning)\n",
      "c:\\users\\admin\\appdata\\local\\programs\\python\\python39\\lib\\site-packages\\seaborn\\distributions.py:2557: FutureWarning: `distplot` is a deprecated function and will be removed in a future version. Please adapt your code to use either `displot` (a figure-level function with similar flexibility) or `histplot` (an axes-level function for histograms).\n",
      "  warnings.warn(msg, FutureWarning)\n",
      "c:\\users\\admin\\appdata\\local\\programs\\python\\python39\\lib\\site-packages\\seaborn\\distributions.py:2557: FutureWarning: `distplot` is a deprecated function and will be removed in a future version. Please adapt your code to use either `displot` (a figure-level function with similar flexibility) or `histplot` (an axes-level function for histograms).\n",
      "  warnings.warn(msg, FutureWarning)\n"
     ]
    },
    {
     "data": {
      "image/png": "[encoded data removed]",
      "text/plain": [
       "<Figure size 864x1080 with 6 Axes>"
      ]
     },
     "metadata": {
      "needs_background": "light"
     },
     "output_type": "display_data"
    }
   ],
   "source": [
    "fig,axes = plt.subplots(3,2,figsize=(12,15))\n",
    "for index,col in enumerate(num_col):\n",
    "    x,y = index//2,index%2\n",
    "    sns.distplot(df2[col],ax=axes[x,y])\n",
    "\n",
    "plt.subplots_adjust(hspace=0.5)"
   ]
  },
  {
   "cell_type": "markdown",
   "id": "alternative-affairs",
   "metadata": {},
   "source": [
    "### 3.2. Outliers detection"
   ]
  },
  {
   "cell_type": "code",
   "execution_count": 131,
   "id": "adapted-cisco",
   "metadata": {},
   "outputs": [],
   "source": [
    "def outlier(df, column):\n",
    "    # first quantile/percentile\n",
    "    first_qrt = np.quantile(df[column],0.25)\n",
    "    # third quantile/percentile\n",
    "    third_qrt = np.quantile(df[column],0.75)\n",
    "    lower_whisker = first_qrt - (third_qrt -first_qrt )*1.5\n",
    "    upper_whisker = third_qrt + (third_qrt -first_qrt )*1.5\n",
    "    df_outliers = df.loc[(df[column] < lower_whisker) | (df[column] > upper_whisker) ] \n",
    "    print(column,':',len(df_outliers))"
   ]
  },
  {
   "cell_type": "code",
   "execution_count": 132,
   "id": "certified-spray",
   "metadata": {},
   "outputs": [
    {
     "name": "stdout",
     "output_type": "stream",
     "text": [
      "Sleep quality : 37\n",
      "Time in bed : 50\n",
      "Start time in second : 96\n",
      "End time in second : 41\n",
      "Activity (steps) : 5\n",
      "Heart rate : 162\n"
     ]
    }
   ],
   "source": [
    "# The mount of outliers\n",
    "for col in num_col:\n",
    "    outlier(df2,col)"
   ]
  },
  {
   "cell_type": "code",
   "execution_count": 133,
   "id": "russian-universal",
   "metadata": {},
   "outputs": [],
   "source": [
    "def outlier_vis(df, column):\n",
    "    plt.figure(figsize=(8,5))\n",
    "    sns.boxplot(y= column,data=df)"
   ]
  },
  {
   "cell_type": "code",
   "execution_count": 134,
   "id": "variable-fault",
   "metadata": {},
   "outputs": [
    {
     "data": {
      "image/png": "[encoded data removed]",
      "text/plain": [
       "<Figure size 576x360 with 1 Axes>"
      ]
     },
     "metadata": {
      "needs_background": "light"
     },
     "output_type": "display_data"
    },
    {
     "data": {
      "image/png": "[encoded data removed]",
      "text/plain": [
       "<Figure size 576x360 with 1 Axes>"
      ]
     },
     "metadata": {
      "needs_background": "light"
     },
     "output_type": "display_data"
    },
    {
     "data": {
      "image/png": "[encoded data removed]",
      "text/plain": [
       "<Figure size 576x360 with 1 Axes>"
      ]
     },
     "metadata": {
      "needs_background": "light"
     },
     "output_type": "display_data"
    },
    {
     "data": {
      "image/png": "[encoded data removed]",
      "text/plain": [
       "<Figure size 576x360 with 1 Axes>"
      ]
     },
     "metadata": {
      "needs_background": "light"
     },
     "output_type": "display_data"
    },
    {
     "data": {
      "image/png": "[encoded data removed]",
      "text/plain": [
       "<Figure size 576x360 with 1 Axes>"
      ]
     },
     "metadata": {
      "needs_background": "light"
     },
     "output_type": "display_data"
    },
    {
     "data": {
      "image/png": "[encoded data removed]",
      "text/plain": [
       "<Figure size 576x360 with 1 Axes>"
      ]
     },
     "metadata": {
      "needs_background": "light"
     },
     "output_type": "display_data"
    }
   ],
   "source": [
    "for col in num_col:\n",
    "    outlier_vis(df2,col)"
   ]
  },
  {
   "cell_type": "markdown",
   "id": "dutch-schedule",
   "metadata": {},
   "source": [
    "#### The percent of outliers is usually less than 10%. So \"Start time in second\" and \"Heart rate\" need process outlier"
   ]
  },
  {
   "cell_type": "code",
   "execution_count": 135,
   "id": "affected-advice",
   "metadata": {},
   "outputs": [],
   "source": [
    "import scipy.stats"
   ]
  },
  {
   "cell_type": "code",
   "execution_count": 136,
   "id": "cordless-observer",
   "metadata": {},
   "outputs": [
    {
     "name": "stderr",
     "output_type": "stream",
     "text": [
      "<ipython-input-136-b2491e14e83c>:1: SettingWithCopyWarning: \n",
      "A value is trying to be set on a copy of a slice from a DataFrame.\n",
      "Try using .loc[row_indexer,col_indexer] = value instead\n",
      "\n",
      "See the caveats in the documentation: https://pandas.pydata.org/pandas-docs/stable/user_guide/indexing.html#returning-a-view-versus-a-copy\n",
      "  df2['Heart rate'] = scipy.stats.mstats.winsorize(df2['Heart rate'],limits = [0,0.15])\n"
     ]
    }
   ],
   "source": [
    "df2['Heart rate'] = scipy.stats.mstats.winsorize(df2['Heart rate'],limits = [0,0.15])"
   ]
  },
  {
   "cell_type": "code",
   "execution_count": 137,
   "id": "brazilian-disposal",
   "metadata": {},
   "outputs": [],
   "source": [
    "df3 = df2.copy()"
   ]
  },
  {
   "cell_type": "code",
   "execution_count": 138,
   "id": "greater-chocolate",
   "metadata": {
    "tags": []
   },
   "outputs": [
    {
     "name": "stdout",
     "output_type": "stream",
     "text": [
      "Sleep quality : 37\n",
      "Time in bed : 50\n",
      "Start time in second : 96\n",
      "End time in second : 41\n",
      "Activity (steps) : 5\n",
      "Heart rate : 92\n"
     ]
    }
   ],
   "source": [
    "# The mount of outliers\n",
    "for col in num_col:\n",
    "    outlier(df3,col)"
   ]
  },
  {
   "cell_type": "code",
   "execution_count": 140,
   "id": "progressive-recommendation",
   "metadata": {},
   "outputs": [
    {
     "data": {
      "text/html": [
       "<div>\n",
       "<style scoped>\n",
       "    .dataframe tbody tr th:only-of-type {\n",
       "        vertical-align: middle;\n",
       "    }\n",
       "\n",
       "    .dataframe tbody tr th {\n",
       "        vertical-align: top;\n",
       "    }\n",
       "\n",
       "    .dataframe thead th {\n",
       "        text-align: right;\n",
       "    }\n",
       "</style>\n",
       "<table border=\"1\" class=\"dataframe\">\n",
       "  <thead>\n",
       "    <tr style=\"text-align: right;\">\n",
       "      <th></th>\n",
       "      <th>Sleep quality</th>\n",
       "      <th>Wake up</th>\n",
       "      <th>Time in bed</th>\n",
       "      <th>Start time in second</th>\n",
       "      <th>End time in second</th>\n",
       "      <th>Activity (steps)</th>\n",
       "      <th>Heart rate</th>\n",
       "    </tr>\n",
       "  </thead>\n",
       "  <tbody>\n",
       "    <tr>\n",
       "      <th>0</th>\n",
       "      <td>100</td>\n",
       "      <td>Good</td>\n",
       "      <td>30744.0</td>\n",
       "      <td>82669</td>\n",
       "      <td>27013</td>\n",
       "      <td>0</td>\n",
       "      <td>59.000000</td>\n",
       "    </tr>\n",
       "    <tr>\n",
       "      <th>1</th>\n",
       "      <td>3</td>\n",
       "      <td>Average</td>\n",
       "      <td>964.0</td>\n",
       "      <td>76670</td>\n",
       "      <td>77634</td>\n",
       "      <td>0</td>\n",
       "      <td>60.604938</td>\n",
       "    </tr>\n",
       "    <tr>\n",
       "      <th>2</th>\n",
       "      <td>98</td>\n",
       "      <td>Average</td>\n",
       "      <td>30642.0</td>\n",
       "      <td>81769</td>\n",
       "      <td>26011</td>\n",
       "      <td>0</td>\n",
       "      <td>57.000000</td>\n",
       "    </tr>\n",
       "    <tr>\n",
       "      <th>3</th>\n",
       "      <td>65</td>\n",
       "      <td>No</td>\n",
       "      <td>27120.0</td>\n",
       "      <td>81061</td>\n",
       "      <td>21781</td>\n",
       "      <td>0</td>\n",
       "      <td>60.604938</td>\n",
       "    </tr>\n",
       "    <tr>\n",
       "      <th>4</th>\n",
       "      <td>72</td>\n",
       "      <td>Good</td>\n",
       "      <td>24265.0</td>\n",
       "      <td>79930</td>\n",
       "      <td>17795</td>\n",
       "      <td>0</td>\n",
       "      <td>60.604938</td>\n",
       "    </tr>\n",
       "    <tr>\n",
       "      <th>...</th>\n",
       "      <td>...</td>\n",
       "      <td>...</td>\n",
       "      <td>...</td>\n",
       "      <td>...</td>\n",
       "      <td>...</td>\n",
       "      <td>...</td>\n",
       "      <td>...</td>\n",
       "    </tr>\n",
       "    <tr>\n",
       "      <th>882</th>\n",
       "      <td>91</td>\n",
       "      <td>No</td>\n",
       "      <td>32881.0</td>\n",
       "      <td>78854</td>\n",
       "      <td>25335</td>\n",
       "      <td>56</td>\n",
       "      <td>60.604938</td>\n",
       "    </tr>\n",
       "    <tr>\n",
       "      <th>883</th>\n",
       "      <td>81</td>\n",
       "      <td>No</td>\n",
       "      <td>25894.0</td>\n",
       "      <td>85759</td>\n",
       "      <td>25253</td>\n",
       "      <td>64</td>\n",
       "      <td>60.604938</td>\n",
       "    </tr>\n",
       "    <tr>\n",
       "      <th>884</th>\n",
       "      <td>71</td>\n",
       "      <td>No</td>\n",
       "      <td>32207.0</td>\n",
       "      <td>77045</td>\n",
       "      <td>22852</td>\n",
       "      <td>3316</td>\n",
       "      <td>60.604938</td>\n",
       "    </tr>\n",
       "    <tr>\n",
       "      <th>885</th>\n",
       "      <td>80</td>\n",
       "      <td>No</td>\n",
       "      <td>33239.0</td>\n",
       "      <td>77792</td>\n",
       "      <td>24631</td>\n",
       "      <td>6555</td>\n",
       "      <td>60.604938</td>\n",
       "    </tr>\n",
       "    <tr>\n",
       "      <th>886</th>\n",
       "      <td>91</td>\n",
       "      <td>No</td>\n",
       "      <td>32135.0</td>\n",
       "      <td>82349</td>\n",
       "      <td>28084</td>\n",
       "      <td>2291</td>\n",
       "      <td>60.604938</td>\n",
       "    </tr>\n",
       "  </tbody>\n",
       "</table>\n",
       "<p>887 rows × 7 columns</p>\n",
       "</div>"
      ],
      "text/plain": [
       "     Sleep quality  Wake up  Time in bed  Start time in second  \\\n",
       "0              100     Good      30744.0                 82669   \n",
       "1                3  Average        964.0                 76670   \n",
       "2               98  Average      30642.0                 81769   \n",
       "3               65       No      27120.0                 81061   \n",
       "4               72     Good      24265.0                 79930   \n",
       "..             ...      ...          ...                   ...   \n",
       "882             91       No      32881.0                 78854   \n",
       "883             81       No      25894.0                 85759   \n",
       "884             71       No      32207.0                 77045   \n",
       "885             80       No      33239.0                 77792   \n",
       "886             91       No      32135.0                 82349   \n",
       "\n",
       "     End time in second  Activity (steps)  Heart rate  \n",
       "0                 27013                 0   59.000000  \n",
       "1                 77634                 0   60.604938  \n",
       "2                 26011                 0   57.000000  \n",
       "3                 21781                 0   60.604938  \n",
       "4                 17795                 0   60.604938  \n",
       "..                  ...               ...         ...  \n",
       "882               25335                56   60.604938  \n",
       "883               25253                64   60.604938  \n",
       "884               22852              3316   60.604938  \n",
       "885               24631              6555   60.604938  \n",
       "886               28084              2291   60.604938  \n",
       "\n",
       "[887 rows x 7 columns]"
      ]
     },
     "execution_count": 140,
     "metadata": {},
     "output_type": "execute_result"
    }
   ],
   "source": [
    "df3"
   ]
  },
  {
   "cell_type": "markdown",
   "id": "forward-thing",
   "metadata": {},
   "source": [
    "### 3.3. Encoding categorical features"
   ]
  },
  {
   "cell_type": "code",
   "execution_count": 142,
   "id": "national-travel",
   "metadata": {},
   "outputs": [
    {
     "data": {
      "text/html": [
       "<div>\n",
       "<style scoped>\n",
       "    .dataframe tbody tr th:only-of-type {\n",
       "        vertical-align: middle;\n",
       "    }\n",
       "\n",
       "    .dataframe tbody tr th {\n",
       "        vertical-align: top;\n",
       "    }\n",
       "\n",
       "    .dataframe thead th {\n",
       "        text-align: right;\n",
       "    }\n",
       "</style>\n",
       "<table border=\"1\" class=\"dataframe\">\n",
       "  <thead>\n",
       "    <tr style=\"text-align: right;\">\n",
       "      <th></th>\n",
       "      <th>Sleep quality</th>\n",
       "      <th>Time in bed</th>\n",
       "      <th>Start time in second</th>\n",
       "      <th>End time in second</th>\n",
       "      <th>Activity (steps)</th>\n",
       "      <th>Heart rate</th>\n",
       "      <th>Wake up_Average</th>\n",
       "      <th>Wake up_Bad</th>\n",
       "      <th>Wake up_Good</th>\n",
       "      <th>Wake up_No</th>\n",
       "    </tr>\n",
       "  </thead>\n",
       "  <tbody>\n",
       "    <tr>\n",
       "      <th>0</th>\n",
       "      <td>100</td>\n",
       "      <td>30744.0</td>\n",
       "      <td>82669</td>\n",
       "      <td>27013</td>\n",
       "      <td>0</td>\n",
       "      <td>59.000000</td>\n",
       "      <td>0</td>\n",
       "      <td>0</td>\n",
       "      <td>1</td>\n",
       "      <td>0</td>\n",
       "    </tr>\n",
       "    <tr>\n",
       "      <th>1</th>\n",
       "      <td>3</td>\n",
       "      <td>964.0</td>\n",
       "      <td>76670</td>\n",
       "      <td>77634</td>\n",
       "      <td>0</td>\n",
       "      <td>60.604938</td>\n",
       "      <td>1</td>\n",
       "      <td>0</td>\n",
       "      <td>0</td>\n",
       "      <td>0</td>\n",
       "    </tr>\n",
       "    <tr>\n",
       "      <th>2</th>\n",
       "      <td>98</td>\n",
       "      <td>30642.0</td>\n",
       "      <td>81769</td>\n",
       "      <td>26011</td>\n",
       "      <td>0</td>\n",
       "      <td>57.000000</td>\n",
       "      <td>1</td>\n",
       "      <td>0</td>\n",
       "      <td>0</td>\n",
       "      <td>0</td>\n",
       "    </tr>\n",
       "    <tr>\n",
       "      <th>3</th>\n",
       "      <td>65</td>\n",
       "      <td>27120.0</td>\n",
       "      <td>81061</td>\n",
       "      <td>21781</td>\n",
       "      <td>0</td>\n",
       "      <td>60.604938</td>\n",
       "      <td>0</td>\n",
       "      <td>0</td>\n",
       "      <td>0</td>\n",
       "      <td>1</td>\n",
       "    </tr>\n",
       "    <tr>\n",
       "      <th>4</th>\n",
       "      <td>72</td>\n",
       "      <td>24265.0</td>\n",
       "      <td>79930</td>\n",
       "      <td>17795</td>\n",
       "      <td>0</td>\n",
       "      <td>60.604938</td>\n",
       "      <td>0</td>\n",
       "      <td>0</td>\n",
       "      <td>1</td>\n",
       "      <td>0</td>\n",
       "    </tr>\n",
       "    <tr>\n",
       "      <th>...</th>\n",
       "      <td>...</td>\n",
       "      <td>...</td>\n",
       "      <td>...</td>\n",
       "      <td>...</td>\n",
       "      <td>...</td>\n",
       "      <td>...</td>\n",
       "      <td>...</td>\n",
       "      <td>...</td>\n",
       "      <td>...</td>\n",
       "      <td>...</td>\n",
       "    </tr>\n",
       "    <tr>\n",
       "      <th>882</th>\n",
       "      <td>91</td>\n",
       "      <td>32881.0</td>\n",
       "      <td>78854</td>\n",
       "      <td>25335</td>\n",
       "      <td>56</td>\n",
       "      <td>60.604938</td>\n",
       "      <td>0</td>\n",
       "      <td>0</td>\n",
       "      <td>0</td>\n",
       "      <td>1</td>\n",
       "    </tr>\n",
       "    <tr>\n",
       "      <th>883</th>\n",
       "      <td>81</td>\n",
       "      <td>25894.0</td>\n",
       "      <td>85759</td>\n",
       "      <td>25253</td>\n",
       "      <td>64</td>\n",
       "      <td>60.604938</td>\n",
       "      <td>0</td>\n",
       "      <td>0</td>\n",
       "      <td>0</td>\n",
       "      <td>1</td>\n",
       "    </tr>\n",
       "    <tr>\n",
       "      <th>884</th>\n",
       "      <td>71</td>\n",
       "      <td>32207.0</td>\n",
       "      <td>77045</td>\n",
       "      <td>22852</td>\n",
       "      <td>3316</td>\n",
       "      <td>60.604938</td>\n",
       "      <td>0</td>\n",
       "      <td>0</td>\n",
       "      <td>0</td>\n",
       "      <td>1</td>\n",
       "    </tr>\n",
       "    <tr>\n",
       "      <th>885</th>\n",
       "      <td>80</td>\n",
       "      <td>33239.0</td>\n",
       "      <td>77792</td>\n",
       "      <td>24631</td>\n",
       "      <td>6555</td>\n",
       "      <td>60.604938</td>\n",
       "      <td>0</td>\n",
       "      <td>0</td>\n",
       "      <td>0</td>\n",
       "      <td>1</td>\n",
       "    </tr>\n",
       "    <tr>\n",
       "      <th>886</th>\n",
       "      <td>91</td>\n",
       "      <td>32135.0</td>\n",
       "      <td>82349</td>\n",
       "      <td>28084</td>\n",
       "      <td>2291</td>\n",
       "      <td>60.604938</td>\n",
       "      <td>0</td>\n",
       "      <td>0</td>\n",
       "      <td>0</td>\n",
       "      <td>1</td>\n",
       "    </tr>\n",
       "  </tbody>\n",
       "</table>\n",
       "<p>887 rows × 10 columns</p>\n",
       "</div>"
      ],
      "text/plain": [
       "     Sleep quality  Time in bed  Start time in second  End time in second  \\\n",
       "0              100      30744.0                 82669               27013   \n",
       "1                3        964.0                 76670               77634   \n",
       "2               98      30642.0                 81769               26011   \n",
       "3               65      27120.0                 81061               21781   \n",
       "4               72      24265.0                 79930               17795   \n",
       "..             ...          ...                   ...                 ...   \n",
       "882             91      32881.0                 78854               25335   \n",
       "883             81      25894.0                 85759               25253   \n",
       "884             71      32207.0                 77045               22852   \n",
       "885             80      33239.0                 77792               24631   \n",
       "886             91      32135.0                 82349               28084   \n",
       "\n",
       "     Activity (steps)  Heart rate  Wake up_Average  Wake up_Bad  Wake up_Good  \\\n",
       "0                   0   59.000000                0            0             1   \n",
       "1                   0   60.604938                1            0             0   \n",
       "2                   0   57.000000                1            0             0   \n",
       "3                   0   60.604938                0            0             0   \n",
       "4                   0   60.604938                0            0             1   \n",
       "..                ...         ...              ...          ...           ...   \n",
       "882                56   60.604938                0            0             0   \n",
       "883                64   60.604938                0            0             0   \n",
       "884              3316   60.604938                0            0             0   \n",
       "885              6555   60.604938                0            0             0   \n",
       "886              2291   60.604938                0            0             0   \n",
       "\n",
       "     Wake up_No  \n",
       "0             0  \n",
       "1             0  \n",
       "2             0  \n",
       "3             1  \n",
       "4             0  \n",
       "..          ...  \n",
       "882           1  \n",
       "883           1  \n",
       "884           1  \n",
       "885           1  \n",
       "886           1  \n",
       "\n",
       "[887 rows x 10 columns]"
      ]
     },
     "execution_count": 142,
     "metadata": {},
     "output_type": "execute_result"
    }
   ],
   "source": [
    "onehot_dt = pd.get_dummies(df3,drop_first = False)\n",
    "onehot_dt"
   ]
  },
  {
   "cell_type": "markdown",
   "id": "dramatic-insider",
   "metadata": {},
   "source": [
    "### 3.4. Features Selection"
   ]
  },
  {
   "cell_type": "code",
   "execution_count": 143,
   "id": "terminal-confidentiality",
   "metadata": {},
   "outputs": [
    {
     "data": {
      "text/html": [
       "<div>\n",
       "<style scoped>\n",
       "    .dataframe tbody tr th:only-of-type {\n",
       "        vertical-align: middle;\n",
       "    }\n",
       "\n",
       "    .dataframe tbody tr th {\n",
       "        vertical-align: top;\n",
       "    }\n",
       "\n",
       "    .dataframe thead th {\n",
       "        text-align: right;\n",
       "    }\n",
       "</style>\n",
       "<table border=\"1\" class=\"dataframe\">\n",
       "  <thead>\n",
       "    <tr style=\"text-align: right;\">\n",
       "      <th></th>\n",
       "      <th>Sleep quality</th>\n",
       "      <th>Time in bed</th>\n",
       "      <th>Start time in second</th>\n",
       "      <th>End time in second</th>\n",
       "      <th>Activity (steps)</th>\n",
       "      <th>Heart rate</th>\n",
       "    </tr>\n",
       "  </thead>\n",
       "  <tbody>\n",
       "    <tr>\n",
       "      <th>Sleep quality</th>\n",
       "      <td>1.000000</td>\n",
       "      <td>0.695206</td>\n",
       "      <td>0.234936</td>\n",
       "      <td>0.076523</td>\n",
       "      <td>-0.190491</td>\n",
       "      <td>-0.070854</td>\n",
       "    </tr>\n",
       "    <tr>\n",
       "      <th>Time in bed</th>\n",
       "      <td>0.695206</td>\n",
       "      <td>1.000000</td>\n",
       "      <td>0.398909</td>\n",
       "      <td>0.097175</td>\n",
       "      <td>-0.013831</td>\n",
       "      <td>0.000200</td>\n",
       "    </tr>\n",
       "    <tr>\n",
       "      <th>Start time in second</th>\n",
       "      <td>0.234936</td>\n",
       "      <td>0.398909</td>\n",
       "      <td>1.000000</td>\n",
       "      <td>-0.344245</td>\n",
       "      <td>-0.038875</td>\n",
       "      <td>-0.007081</td>\n",
       "    </tr>\n",
       "    <tr>\n",
       "      <th>End time in second</th>\n",
       "      <td>0.076523</td>\n",
       "      <td>0.097175</td>\n",
       "      <td>-0.344245</td>\n",
       "      <td>1.000000</td>\n",
       "      <td>0.076142</td>\n",
       "      <td>0.084744</td>\n",
       "    </tr>\n",
       "    <tr>\n",
       "      <th>Activity (steps)</th>\n",
       "      <td>-0.190491</td>\n",
       "      <td>-0.013831</td>\n",
       "      <td>-0.038875</td>\n",
       "      <td>0.076142</td>\n",
       "      <td>1.000000</td>\n",
       "      <td>0.221350</td>\n",
       "    </tr>\n",
       "    <tr>\n",
       "      <th>Heart rate</th>\n",
       "      <td>-0.070854</td>\n",
       "      <td>0.000200</td>\n",
       "      <td>-0.007081</td>\n",
       "      <td>0.084744</td>\n",
       "      <td>0.221350</td>\n",
       "      <td>1.000000</td>\n",
       "    </tr>\n",
       "  </tbody>\n",
       "</table>\n",
       "</div>"
      ],
      "text/plain": [
       "                      Sleep quality  Time in bed  Start time in second  \\\n",
       "Sleep quality              1.000000     0.695206              0.234936   \n",
       "Time in bed                0.695206     1.000000              0.398909   \n",
       "Start time in second       0.234936     0.398909              1.000000   \n",
       "End time in second         0.076523     0.097175             -0.344245   \n",
       "Activity (steps)          -0.190491    -0.013831             -0.038875   \n",
       "Heart rate                -0.070854     0.000200             -0.007081   \n",
       "\n",
       "                      End time in second  Activity (steps)  Heart rate  \n",
       "Sleep quality                   0.076523         -0.190491   -0.070854  \n",
       "Time in bed                     0.097175         -0.013831    0.000200  \n",
       "Start time in second           -0.344245         -0.038875   -0.007081  \n",
       "End time in second              1.000000          0.076142    0.084744  \n",
       "Activity (steps)                0.076142          1.000000    0.221350  \n",
       "Heart rate                      0.084744          0.221350    1.000000  "
      ]
     },
     "execution_count": 143,
     "metadata": {},
     "output_type": "execute_result"
    }
   ],
   "source": [
    "corrMatrix = df3.corr()\n",
    "corrMatrix"
   ]
  },
  {
   "cell_type": "code",
   "execution_count": 144,
   "id": "ahead-hello",
   "metadata": {},
   "outputs": [
    {
     "data": {
      "image/png": "[encoded data removed]",
      "text/plain": [
       "<Figure size 1152x576 with 2 Axes>"
      ]
     },
     "metadata": {
      "needs_background": "light"
     },
     "output_type": "display_data"
    }
   ],
   "source": [
    "plt.figure(figsize=(16, 8))\n",
    "sns.heatmap(corrMatrix, annot = True)\n",
    "plt.show()"
   ]
  },
  {
   "cell_type": "code",
   "execution_count": 145,
   "id": "naughty-nursing",
   "metadata": {},
   "outputs": [],
   "source": [
    "# Identify target variable\n",
    "target = onehot_dt['Sleep quality']\n",
    "variables = onehot_dt.drop(columns = 'Sleep quality')"
   ]
  },
  {
   "cell_type": "code",
   "execution_count": 146,
   "id": "criminal-breakfast",
   "metadata": {},
   "outputs": [
    {
     "data": {
      "text/plain": [
       "Time in bed             8.275699e-117\n",
       "Start time in second     8.492847e-02\n",
       "End time in second       5.857356e-01\n",
       "Activity (steps)         3.392607e-09\n",
       "Heart rate               4.753269e-01\n",
       "Wake up_Average          1.684728e-01\n",
       "Wake up_Bad              5.348629e-02\n",
       "Wake up_Good             1.068007e-01\n",
       "Wake up_No               1.437275e-01\n",
       "Name: P>|t|, dtype: float64"
      ]
     },
     "execution_count": 146,
     "metadata": {},
     "output_type": "execute_result"
    }
   ],
   "source": [
    "# Identify P-values of variable\n",
    "import statsmodels.api as sm\n",
    "mod = sm.OLS(target,variables)\n",
    "fii = mod.fit()\n",
    "p_values = fii.summary2().tables[1]['P>|t|']\n",
    "p_values"
   ]
  },
  {
   "cell_type": "code",
   "execution_count": 147,
   "id": "coordinated-paper",
   "metadata": {},
   "outputs": [
    {
     "data": {
      "text/html": [
       "<div>\n",
       "<style scoped>\n",
       "    .dataframe tbody tr th:only-of-type {\n",
       "        vertical-align: middle;\n",
       "    }\n",
       "\n",
       "    .dataframe tbody tr th {\n",
       "        vertical-align: top;\n",
       "    }\n",
       "\n",
       "    .dataframe thead th {\n",
       "        text-align: right;\n",
       "    }\n",
       "</style>\n",
       "<table border=\"1\" class=\"dataframe\">\n",
       "  <thead>\n",
       "    <tr style=\"text-align: right;\">\n",
       "      <th></th>\n",
       "      <th>Coef.</th>\n",
       "      <th>Std.Err.</th>\n",
       "      <th>t</th>\n",
       "      <th>P&gt;|t|</th>\n",
       "      <th>[0.025</th>\n",
       "      <th>0.975]</th>\n",
       "    </tr>\n",
       "  </thead>\n",
       "  <tbody>\n",
       "    <tr>\n",
       "      <th>Time in bed</th>\n",
       "      <td>0.002372</td>\n",
       "      <td>0.000088</td>\n",
       "      <td>26.912141</td>\n",
       "      <td>8.275699e-117</td>\n",
       "      <td>0.002199</td>\n",
       "      <td>0.002545</td>\n",
       "    </tr>\n",
       "    <tr>\n",
       "      <th>Start time in second</th>\n",
       "      <td>-0.000032</td>\n",
       "      <td>0.000019</td>\n",
       "      <td>-1.724728</td>\n",
       "      <td>8.492847e-02</td>\n",
       "      <td>-0.000069</td>\n",
       "      <td>0.000004</td>\n",
       "    </tr>\n",
       "    <tr>\n",
       "      <th>End time in second</th>\n",
       "      <td>0.000060</td>\n",
       "      <td>0.000109</td>\n",
       "      <td>0.545227</td>\n",
       "      <td>5.857356e-01</td>\n",
       "      <td>-0.000155</td>\n",
       "      <td>0.000275</td>\n",
       "    </tr>\n",
       "    <tr>\n",
       "      <th>Activity (steps)</th>\n",
       "      <td>-0.000711</td>\n",
       "      <td>0.000119</td>\n",
       "      <td>-5.972414</td>\n",
       "      <td>3.392607e-09</td>\n",
       "      <td>-0.000944</td>\n",
       "      <td>-0.000477</td>\n",
       "    </tr>\n",
       "    <tr>\n",
       "      <th>Heart rate</th>\n",
       "      <td>-0.180066</td>\n",
       "      <td>0.252142</td>\n",
       "      <td>-0.714146</td>\n",
       "      <td>4.753269e-01</td>\n",
       "      <td>-0.674938</td>\n",
       "      <td>0.314806</td>\n",
       "    </tr>\n",
       "    <tr>\n",
       "      <th>Wake up_Average</th>\n",
       "      <td>21.393746</td>\n",
       "      <td>15.522238</td>\n",
       "      <td>1.378264</td>\n",
       "      <td>1.684728e-01</td>\n",
       "      <td>-9.071278</td>\n",
       "      <td>51.858769</td>\n",
       "    </tr>\n",
       "    <tr>\n",
       "      <th>Wake up_Bad</th>\n",
       "      <td>36.424609</td>\n",
       "      <td>18.837939</td>\n",
       "      <td>1.933577</td>\n",
       "      <td>5.348629e-02</td>\n",
       "      <td>-0.548041</td>\n",
       "      <td>73.397259</td>\n",
       "    </tr>\n",
       "    <tr>\n",
       "      <th>Wake up_Good</th>\n",
       "      <td>24.613659</td>\n",
       "      <td>15.246352</td>\n",
       "      <td>1.614397</td>\n",
       "      <td>1.068007e-01</td>\n",
       "      <td>-5.309892</td>\n",
       "      <td>54.537210</td>\n",
       "    </tr>\n",
       "    <tr>\n",
       "      <th>Wake up_No</th>\n",
       "      <td>22.962155</td>\n",
       "      <td>15.691419</td>\n",
       "      <td>1.463358</td>\n",
       "      <td>1.437275e-01</td>\n",
       "      <td>-7.834914</td>\n",
       "      <td>53.759225</td>\n",
       "    </tr>\n",
       "  </tbody>\n",
       "</table>\n",
       "</div>"
      ],
      "text/plain": [
       "                          Coef.   Std.Err.          t          P>|t|  \\\n",
       "Time in bed            0.002372   0.000088  26.912141  8.275699e-117   \n",
       "Start time in second  -0.000032   0.000019  -1.724728   8.492847e-02   \n",
       "End time in second     0.000060   0.000109   0.545227   5.857356e-01   \n",
       "Activity (steps)      -0.000711   0.000119  -5.972414   3.392607e-09   \n",
       "Heart rate            -0.180066   0.252142  -0.714146   4.753269e-01   \n",
       "Wake up_Average       21.393746  15.522238   1.378264   1.684728e-01   \n",
       "Wake up_Bad           36.424609  18.837939   1.933577   5.348629e-02   \n",
       "Wake up_Good          24.613659  15.246352   1.614397   1.068007e-01   \n",
       "Wake up_No            22.962155  15.691419   1.463358   1.437275e-01   \n",
       "\n",
       "                        [0.025     0.975]  \n",
       "Time in bed           0.002199   0.002545  \n",
       "Start time in second -0.000069   0.000004  \n",
       "End time in second   -0.000155   0.000275  \n",
       "Activity (steps)     -0.000944  -0.000477  \n",
       "Heart rate           -0.674938   0.314806  \n",
       "Wake up_Average      -9.071278  51.858769  \n",
       "Wake up_Bad          -0.548041  73.397259  \n",
       "Wake up_Good         -5.309892  54.537210  \n",
       "Wake up_No           -7.834914  53.759225  "
      ]
     },
     "execution_count": 147,
     "metadata": {},
     "output_type": "execute_result"
    }
   ],
   "source": [
    "mod = sm.OLS(target,variables)\n",
    "fii = mod.fit()\n",
    "fii.summary2().tables[1]"
   ]
  },
  {
   "cell_type": "markdown",
   "id": "instructional-mission",
   "metadata": {},
   "source": [
    "# 4. Machine Learning"
   ]
  },
  {
   "cell_type": "markdown",
   "id": "presidential-webster",
   "metadata": {},
   "source": [
    "### 4.1. Train and test split"
   ]
  },
  {
   "cell_type": "code",
   "execution_count": 151,
   "id": "freelance-charter",
   "metadata": {},
   "outputs": [],
   "source": [
    "# split data into training and test data\n",
    "from sklearn.model_selection import train_test_split\n",
    "X_train, X_test, y_train, y_test = train_test_split(onehot_dt.drop(columns ='Sleep quality'), onehot_dt['Sleep quality'], test_size=0.1, random_state=42)"
   ]
  },
  {
   "cell_type": "code",
   "execution_count": 152,
   "id": "apart-knock",
   "metadata": {},
   "outputs": [],
   "source": [
    "from sklearn.preprocessing import MinMaxScaler\n",
    "scaler = MinMaxScaler()\n",
    "scaler.fit(X_train)\n",
    "X_train = scaler.transform(X_train)\n",
    "X_test = scaler.transform(X_test)"
   ]
  },
  {
   "cell_type": "markdown",
   "id": "cultural-oxygen",
   "metadata": {},
   "source": [
    "### 4.2. Logistic Regression"
   ]
  },
  {
   "cell_type": "code",
   "execution_count": 153,
   "id": "standing-evening",
   "metadata": {},
   "outputs": [
    {
     "name": "stdout",
     "output_type": "stream",
     "text": [
      "test accuracy: 0.07865168539325842\n"
     ]
    }
   ],
   "source": [
    "from sklearn.linear_model import LogisticRegression\n",
    "logmodel = LogisticRegression()\n",
    "logmodel.fit(X_train, y_train)\n",
    "\n",
    "print('test accuracy:', logmodel.score(X_test,y_test))"
   ]
  },
  {
   "cell_type": "markdown",
   "id": "united-consultation",
   "metadata": {},
   "source": [
    "### 4.3. Linear Regression"
   ]
  },
  {
   "cell_type": "code",
   "execution_count": 154,
   "id": "radical-collaboration",
   "metadata": {},
   "outputs": [
    {
     "name": "stdout",
     "output_type": "stream",
     "text": [
      "test accuracy: 0.6585501238609782\n"
     ]
    }
   ],
   "source": [
    "from sklearn.linear_model import LinearRegression\n",
    "lm = LinearRegression()\n",
    "lm.fit(X_train,y_train)\n",
    "lm.score(X_test,y_test)\n",
    "\n",
    "print('test accuracy:', lm.score(X_test,y_test))"
   ]
  },
  {
   "cell_type": "markdown",
   "id": "understood-modeling",
   "metadata": {},
   "source": [
    "### 4.4. Decision Tree"
   ]
  },
  {
   "cell_type": "code",
   "execution_count": 155,
   "id": "intended-bicycle",
   "metadata": {
    "tags": []
   },
   "outputs": [
    {
     "name": "stdout",
     "output_type": "stream",
     "text": [
      "test accuracy: 0.0898876404494382\n"
     ]
    }
   ],
   "source": [
    "from sklearn.tree import DecisionTreeClassifier\n",
    "dtree = DecisionTreeClassifier()\n",
    "dtree.fit(X_train, y_train)\n",
    "\n",
    "print('test accuracy:', dtree.score(X_test,y_test))"
   ]
  },
  {
   "cell_type": "markdown",
   "id": "incomplete-property",
   "metadata": {},
   "source": [
    "### 4.5. Random Tree"
   ]
  },
  {
   "cell_type": "code",
   "execution_count": 156,
   "id": "familiar-profile",
   "metadata": {},
   "outputs": [
    {
     "name": "stdout",
     "output_type": "stream",
     "text": [
      "test accuracy: 0.06741573033707865\n"
     ]
    }
   ],
   "source": [
    "from sklearn.ensemble import RandomForestClassifier\n",
    "rfc = RandomForestClassifier(n_estimators=20)\n",
    "rfc.fit(X_train,y_train)\n",
    "print('test accuracy:', rfc.score(X_test,y_test))"
   ]
  }
 ],
 "metadata": {
  "kernelspec": {
   "display_name": "Python 3",
   "language": "python",
   "name": "python3"
  },
  "language_info": {
   "codemirror_mode": {
    "name": "ipython",
    "version": 3
   },
   "file_extension": ".py",
   "mimetype": "text/x-python",
   "name": "python",
   "nbconvert_exporter": "python",
   "pygments_lexer": "ipython3",
   "version": "3.9.1"
  }
 },
 "nbformat": 4,
 "nbformat_minor": 5
}
